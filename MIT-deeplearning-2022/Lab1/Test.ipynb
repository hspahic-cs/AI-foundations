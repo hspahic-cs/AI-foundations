{
 "cells": [
  {
   "cell_type": "code",
   "execution_count": 1,
   "metadata": {},
   "outputs": [
    {
     "name": "stdout",
     "output_type": "stream",
     "text": [
      "test\n"
     ]
    }
   ],
   "source": [
    "print(\"Line 1\")\n",
    "print(\"Line 2\")\n",
    "print(\"Line 3\")\n",
    "print(\"Line 4\")\n",
    "print(\"Line 5\")"
   ]
  },
  {
   "cell_type": "code",
   "execution_count": 3,
   "metadata": {},
   "outputs": [
    {
     "name": "stdout",
     "output_type": "stream",
     "text": [
      "20\n"
     ]
    }
   ],
   "source": [
    "x = 20\n",
    "print(x)\n",
    "\n",
    "'''\n",
    "Cheat sheet: \n",
    "    Command Mode -> esc             |   | Edit mode -> enter\n",
    "\n",
    "While in cmd \n",
    "    M --> Markdown                  |   | Y --> Code \n",
    "    ctr+enter --> render markdown\n",
    "    L --> disable / enable line \n",
    "\n",
    "'''\n"
   ]
  },
  {
   "cell_type": "markdown",
   "metadata": {},
   "source": [
    "Testing this markdown cell"
   ]
  }
 ],
 "metadata": {
  "interpreter": {
   "hash": "9e834c766db204c9571839f0206561d5c6d6e6edd627b948199edd5046cb1df7"
  },
  "kernelspec": {
   "display_name": "Python 3.10.3 64-bit",
   "language": "python",
   "name": "python3"
  },
  "language_info": {
   "codemirror_mode": {
    "name": "ipython",
    "version": 3
   },
   "file_extension": ".py",
   "mimetype": "text/x-python",
   "name": "python",
   "nbconvert_exporter": "python",
   "pygments_lexer": "ipython3",
   "version": "3.10.3"
  },
  "orig_nbformat": 4
 },
 "nbformat": 4,
 "nbformat_minor": 2
}
